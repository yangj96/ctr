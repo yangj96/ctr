{
 "cells": [
  {
   "cell_type": "code",
   "execution_count": 1,
   "metadata": {},
   "outputs": [
    {
     "name": "stderr",
     "output_type": "stream",
     "text": [
      "Using TensorFlow backend.\n"
     ]
    }
   ],
   "source": [
    "from fancyimpute import BiScaler, KNN, NuclearNormMinimization, SoftImpute\n",
    "from sklearn.ensemble import RandomForestRegressor\n",
    "import pandas as pd\n",
    "import numpy as np\n"
   ]
  },
  {
   "cell_type": "code",
   "execution_count": 2,
   "metadata": {},
   "outputs": [],
   "source": [
    "train_df = pd.read_csv(\"./train_data_1112.csv\")\n",
    "test_df = pd.read_csv(\"./test_data_1112.csv\")\n",
    "#train_df = pd.DataFrame(KNN(k=6).fit_transform(data)) \n",
    "#train_df.columns = ['sex','age','label']  # fancyimpute填补缺失值时会自动删除列名\n"
   ]
  },
  {
   "cell_type": "code",
   "execution_count": 3,
   "metadata": {},
   "outputs": [
    {
     "data": {
      "text/plain": [
       "poi_id                    0\n",
       "request_id                0\n",
       "pos                       0\n",
       "time                      0\n",
       "action                    0\n",
       "uuid                      0\n",
       "request_cate_id           0\n",
       "request_time              0\n",
       "latitude_req              0\n",
       "longitude_req             0\n",
       "device_type            1664\n",
       "gender               335217\n",
       "age                 1640251\n",
       "job                       0\n",
       "cate_level1               0\n",
       "cate_level2               0\n",
       "cate_level3               0\n",
       "area_id                   0\n",
       "avg_price               241\n",
       "poi_star               1477\n",
       "longitude_poi             0\n",
       "latitude_poi              0\n",
       "distance                  0\n",
       "peak                      0\n",
       "poi_cnt_deal         162271\n",
       "poi_avg_discount     162271\n",
       "dtype: int64"
      ]
     },
     "execution_count": 3,
     "metadata": {},
     "output_type": "execute_result"
    }
   ],
   "source": [
    "train_df.isnull().sum()"
   ]
  },
  {
   "cell_type": "code",
   "execution_count": 12,
   "metadata": {},
   "outputs": [
    {
     "data": {
      "text/html": [
       "<div>\n",
       "<style scoped>\n",
       "    .dataframe tbody tr th:only-of-type {\n",
       "        vertical-align: middle;\n",
       "    }\n",
       "\n",
       "    .dataframe tbody tr th {\n",
       "        vertical-align: top;\n",
       "    }\n",
       "\n",
       "    .dataframe thead th {\n",
       "        text-align: right;\n",
       "    }\n",
       "</style>\n",
       "<table border=\"1\" class=\"dataframe\">\n",
       "  <thead>\n",
       "    <tr style=\"text-align: right;\">\n",
       "      <th></th>\n",
       "      <th>poi_id</th>\n",
       "      <th>request_id</th>\n",
       "      <th>pos</th>\n",
       "      <th>time</th>\n",
       "      <th>action</th>\n",
       "      <th>uuid</th>\n",
       "      <th>request_cate_id</th>\n",
       "      <th>request_time</th>\n",
       "      <th>latitude_req</th>\n",
       "      <th>longitude_req</th>\n",
       "      <th>...</th>\n",
       "      <th>cate_level3</th>\n",
       "      <th>area_id</th>\n",
       "      <th>avg_price</th>\n",
       "      <th>poi_star</th>\n",
       "      <th>longitude_poi</th>\n",
       "      <th>latitude_poi</th>\n",
       "      <th>distance</th>\n",
       "      <th>peak</th>\n",
       "      <th>poi_cnt_deal</th>\n",
       "      <th>poi_avg_discount</th>\n",
       "    </tr>\n",
       "  </thead>\n",
       "  <tbody>\n",
       "    <tr>\n",
       "      <td>0</td>\n",
       "      <td>1702902487627383470</td>\n",
       "      <td>4311086084099128885</td>\n",
       "      <td>13</td>\n",
       "      <td>2019-05-02</td>\n",
       "      <td>0</td>\n",
       "      <td>9.639066e+18</td>\n",
       "      <td>1.0</td>\n",
       "      <td>16</td>\n",
       "      <td>29.178693</td>\n",
       "      <td>105.751887</td>\n",
       "      <td>...</td>\n",
       "      <td>2036</td>\n",
       "      <td>15743</td>\n",
       "      <td>66.0</td>\n",
       "      <td>43.0</td>\n",
       "      <td>105.716693</td>\n",
       "      <td>29.167927</td>\n",
       "      <td>3.621</td>\n",
       "      <td>0</td>\n",
       "      <td>5.0</td>\n",
       "      <td>0.737855</td>\n",
       "    </tr>\n",
       "    <tr>\n",
       "      <td>1</td>\n",
       "      <td>14800569415264211896</td>\n",
       "      <td>4749834003306548820</td>\n",
       "      <td>1</td>\n",
       "      <td>2019-05-02</td>\n",
       "      <td>0</td>\n",
       "      <td>1.328961e+18</td>\n",
       "      <td>1.0</td>\n",
       "      <td>19</td>\n",
       "      <td>38.003857</td>\n",
       "      <td>105.462191</td>\n",
       "      <td>...</td>\n",
       "      <td>244</td>\n",
       "      <td>31806</td>\n",
       "      <td>49.0</td>\n",
       "      <td>37.0</td>\n",
       "      <td>105.440202</td>\n",
       "      <td>38.060255</td>\n",
       "      <td>6.560</td>\n",
       "      <td>1</td>\n",
       "      <td>4.0</td>\n",
       "      <td>0.791588</td>\n",
       "    </tr>\n",
       "    <tr>\n",
       "      <td>2</td>\n",
       "      <td>6279863632342018475</td>\n",
       "      <td>13389247690348720622</td>\n",
       "      <td>83</td>\n",
       "      <td>2019-05-02</td>\n",
       "      <td>0</td>\n",
       "      <td>1.069036e+19</td>\n",
       "      <td>1.0</td>\n",
       "      <td>17</td>\n",
       "      <td>22.049558</td>\n",
       "      <td>112.603200</td>\n",
       "      <td>...</td>\n",
       "      <td>12</td>\n",
       "      <td>6941</td>\n",
       "      <td>49.0</td>\n",
       "      <td>48.0</td>\n",
       "      <td>112.568717</td>\n",
       "      <td>22.080556</td>\n",
       "      <td>4.951</td>\n",
       "      <td>1</td>\n",
       "      <td>7.0</td>\n",
       "      <td>0.733437</td>\n",
       "    </tr>\n",
       "    <tr>\n",
       "      <td>3</td>\n",
       "      <td>11127900293242244072</td>\n",
       "      <td>3988416664035581676</td>\n",
       "      <td>43</td>\n",
       "      <td>2019-05-02</td>\n",
       "      <td>0</td>\n",
       "      <td>3.636211e+18</td>\n",
       "      <td>1.0</td>\n",
       "      <td>22</td>\n",
       "      <td>30.225835</td>\n",
       "      <td>120.408761</td>\n",
       "      <td>...</td>\n",
       "      <td>321</td>\n",
       "      <td>35343</td>\n",
       "      <td>100.0</td>\n",
       "      <td>39.0</td>\n",
       "      <td>119.348778</td>\n",
       "      <td>29.815176</td>\n",
       "      <td>111.802</td>\n",
       "      <td>0</td>\n",
       "      <td>3.0</td>\n",
       "      <td>0.571207</td>\n",
       "    </tr>\n",
       "    <tr>\n",
       "      <td>4</td>\n",
       "      <td>15471065569104080361</td>\n",
       "      <td>17230175878920950111</td>\n",
       "      <td>13</td>\n",
       "      <td>2019-05-02</td>\n",
       "      <td>0</td>\n",
       "      <td>4.344248e+18</td>\n",
       "      <td>1.0</td>\n",
       "      <td>18</td>\n",
       "      <td>43.411473</td>\n",
       "      <td>86.729880</td>\n",
       "      <td>...</td>\n",
       "      <td>235</td>\n",
       "      <td>34029</td>\n",
       "      <td>107.0</td>\n",
       "      <td>50.0</td>\n",
       "      <td>86.770657</td>\n",
       "      <td>43.404640</td>\n",
       "      <td>3.380</td>\n",
       "      <td>1</td>\n",
       "      <td>7.0</td>\n",
       "      <td>0.535113</td>\n",
       "    </tr>\n",
       "  </tbody>\n",
       "</table>\n",
       "<p>5 rows × 26 columns</p>\n",
       "</div>"
      ],
      "text/plain": [
       "                 poi_id            request_id  pos        time  action  \\\n",
       "0   1702902487627383470   4311086084099128885   13  2019-05-02       0   \n",
       "1  14800569415264211896   4749834003306548820    1  2019-05-02       0   \n",
       "2   6279863632342018475  13389247690348720622   83  2019-05-02       0   \n",
       "3  11127900293242244072   3988416664035581676   43  2019-05-02       0   \n",
       "4  15471065569104080361  17230175878920950111   13  2019-05-02       0   \n",
       "\n",
       "           uuid  request_cate_id  request_time  latitude_req  longitude_req  \\\n",
       "0  9.639066e+18              1.0            16     29.178693     105.751887   \n",
       "1  1.328961e+18              1.0            19     38.003857     105.462191   \n",
       "2  1.069036e+19              1.0            17     22.049558     112.603200   \n",
       "3  3.636211e+18              1.0            22     30.225835     120.408761   \n",
       "4  4.344248e+18              1.0            18     43.411473      86.729880   \n",
       "\n",
       "   ... cate_level3  area_id  avg_price  poi_star  longitude_poi  latitude_poi  \\\n",
       "0  ...        2036    15743       66.0      43.0     105.716693     29.167927   \n",
       "1  ...         244    31806       49.0      37.0     105.440202     38.060255   \n",
       "2  ...          12     6941       49.0      48.0     112.568717     22.080556   \n",
       "3  ...         321    35343      100.0      39.0     119.348778     29.815176   \n",
       "4  ...         235    34029      107.0      50.0      86.770657     43.404640   \n",
       "\n",
       "   distance  peak  poi_cnt_deal  poi_avg_discount  \n",
       "0     3.621     0           5.0          0.737855  \n",
       "1     6.560     1           4.0          0.791588  \n",
       "2     4.951     1           7.0          0.733437  \n",
       "3   111.802     0           3.0          0.571207  \n",
       "4     3.380     1           7.0          0.535113  \n",
       "\n",
       "[5 rows x 26 columns]"
      ]
     },
     "execution_count": 12,
     "metadata": {},
     "output_type": "execute_result"
    }
   ],
   "source": [
    "train_df.head()"
   ]
  },
  {
   "cell_type": "code",
   "execution_count": 4,
   "metadata": {},
   "outputs": [],
   "source": [
    "train_df_user = train_df[['uuid','gender','age','job']]\n",
    "train_df_poi  = train_df[['poi_id','cate_level1','cate_level2','cate_level3','area_id','avg_price','poi_star','longitude_poi','latitude_poi']]"
   ]
  },
  {
   "cell_type": "code",
   "execution_count": 7,
   "metadata": {},
   "outputs": [
    {
     "data": {
      "text/html": [
       "<div>\n",
       "<style scoped>\n",
       "    .dataframe tbody tr th:only-of-type {\n",
       "        vertical-align: middle;\n",
       "    }\n",
       "\n",
       "    .dataframe tbody tr th {\n",
       "        vertical-align: top;\n",
       "    }\n",
       "\n",
       "    .dataframe thead th {\n",
       "        text-align: right;\n",
       "    }\n",
       "</style>\n",
       "<table border=\"1\" class=\"dataframe\">\n",
       "  <thead>\n",
       "    <tr style=\"text-align: right;\">\n",
       "      <th></th>\n",
       "      <th>uuid</th>\n",
       "      <th>gender</th>\n",
       "      <th>age</th>\n",
       "      <th>job</th>\n",
       "    </tr>\n",
       "  </thead>\n",
       "  <tbody>\n",
       "    <tr>\n",
       "      <td>0</td>\n",
       "      <td>9.639066e+18</td>\n",
       "      <td>0.0</td>\n",
       "      <td>NaN</td>\n",
       "      <td>1.0</td>\n",
       "    </tr>\n",
       "    <tr>\n",
       "      <td>1</td>\n",
       "      <td>1.328961e+18</td>\n",
       "      <td>0.0</td>\n",
       "      <td>NaN</td>\n",
       "      <td>3.0</td>\n",
       "    </tr>\n",
       "    <tr>\n",
       "      <td>2</td>\n",
       "      <td>1.069036e+19</td>\n",
       "      <td>1.0</td>\n",
       "      <td>20.0</td>\n",
       "      <td>3.0</td>\n",
       "    </tr>\n",
       "    <tr>\n",
       "      <td>3</td>\n",
       "      <td>3.636211e+18</td>\n",
       "      <td>0.0</td>\n",
       "      <td>18.0</td>\n",
       "      <td>2.0</td>\n",
       "    </tr>\n",
       "    <tr>\n",
       "      <td>4</td>\n",
       "      <td>4.344248e+18</td>\n",
       "      <td>0.0</td>\n",
       "      <td>31.0</td>\n",
       "      <td>1.0</td>\n",
       "    </tr>\n",
       "  </tbody>\n",
       "</table>\n",
       "</div>"
      ],
      "text/plain": [
       "           uuid  gender   age  job\n",
       "0  9.639066e+18     0.0   NaN  1.0\n",
       "1  1.328961e+18     0.0   NaN  3.0\n",
       "2  1.069036e+19     1.0  20.0  3.0\n",
       "3  3.636211e+18     0.0  18.0  2.0\n",
       "4  4.344248e+18     0.0  31.0  1.0"
      ]
     },
     "execution_count": 7,
     "metadata": {},
     "output_type": "execute_result"
    }
   ],
   "source": [
    "train_df_user.head()"
   ]
  },
  {
   "cell_type": "code",
   "execution_count": 9,
   "metadata": {},
   "outputs": [
    {
     "name": "stderr",
     "output_type": "stream",
     "text": [
      "/opt/anaconda3/lib/python3.7/site-packages/ipykernel_launcher.py:1: FutureWarning: Method .as_matrix will be removed in a future version. Use .values instead.\n",
      "  \"\"\"Entry point for launching an IPython kernel.\n"
     ]
    }
   ],
   "source": [
    "known_age = train_df_user[train_df_user.age.notnull()].as_matrix()"
   ]
  },
  {
   "cell_type": "code",
   "execution_count": 24,
   "metadata": {},
   "outputs": [
    {
     "data": {
      "text/plain": [
       "array([20.,  3.])"
      ]
     },
     "execution_count": 24,
     "metadata": {},
     "output_type": "execute_result"
    }
   ],
   "source": [
    "known_age[0,[2,3]]"
   ]
  },
  {
   "cell_type": "code",
   "execution_count": null,
   "metadata": {},
   "outputs": [],
   "source": [
    "#先填最大的，把其他数量小的特征都补起来\n",
    "train_df_user_fit_g = train_df_user.fillna(train_df.mean()['gender'])\n",
    "def fill_ages(df):\n",
    "    #把数值型特征都放到随机森林里面去\n",
    "    known_age = df[df.age.notnull()].as_matrix()\n",
    "    unknown_age = df[df.age.isnull()].as_matrix()\n",
    "    y=known_age[:,2]#y是年龄，第一列数据\n",
    "    x=known_age[:,[0,1,3]]#x是特征属性值，后面几列\n",
    "    rfr=RandomForestRegressor(random_state=0,n_estimators=100,n_jobs=-1)\n",
    "    #根据已有数据去拟合随机森林模型\n",
    "    rfr.fit(x,y)\n",
    "    #预测缺失值\n",
    "    predictedAges = rfr.predict(unknown_age[:,1:])\n",
    "    #填补缺失值\n",
    "    df.loc[(df.age.isnull()),'age'] = predictedAges\n",
    "    return df,rfr\n",
    "\n",
    "train_df_user_fit_g=fill_ages(train_df_user_fit_g)"
   ]
  },
  {
   "cell_type": "code",
   "execution_count": 25,
   "metadata": {},
   "outputs": [
    {
     "name": "stderr",
     "output_type": "stream",
     "text": [
      "/opt/anaconda3/lib/python3.7/site-packages/ipykernel_launcher.py:3: FutureWarning: Method .as_matrix will be removed in a future version. Use .values instead.\n",
      "  This is separate from the ipykernel package so we can avoid doing imports until\n",
      "/opt/anaconda3/lib/python3.7/site-packages/ipykernel_launcher.py:4: FutureWarning: Method .as_matrix will be removed in a future version. Use .values instead.\n",
      "  after removing the cwd from sys.path.\n"
     ]
    },
    {
     "ename": "ValueError",
     "evalue": "Input contains NaN, infinity or a value too large for dtype('float32').",
     "output_type": "error",
     "traceback": [
      "\u001b[0;31m---------------------------------------------------------------------------\u001b[0m",
      "\u001b[0;31mValueError\u001b[0m                                Traceback (most recent call last)",
      "\u001b[0;32m<ipython-input-25-0ae06ffb6ab6>\u001b[0m in \u001b[0;36m<module>\u001b[0;34m\u001b[0m\n\u001b[1;32m     14\u001b[0m     \u001b[0;32mreturn\u001b[0m \u001b[0mdf\u001b[0m\u001b[0;34m,\u001b[0m\u001b[0mrfr\u001b[0m\u001b[0;34m\u001b[0m\u001b[0;34m\u001b[0m\u001b[0m\n\u001b[1;32m     15\u001b[0m \u001b[0;34m\u001b[0m\u001b[0m\n\u001b[0;32m---> 16\u001b[0;31m \u001b[0mfill_gender\u001b[0m \u001b[0;34m(\u001b[0m\u001b[0mtrain_df_user\u001b[0m\u001b[0;34m)\u001b[0m\u001b[0;34m\u001b[0m\u001b[0;34m\u001b[0m\u001b[0m\n\u001b[0m",
      "\u001b[0;32m<ipython-input-25-0ae06ffb6ab6>\u001b[0m in \u001b[0;36mfill_gender\u001b[0;34m(df)\u001b[0m\n\u001b[1;32m      7\u001b[0m     \u001b[0mrfr\u001b[0m\u001b[0;34m=\u001b[0m\u001b[0mRandomForestRegressor\u001b[0m\u001b[0;34m(\u001b[0m\u001b[0mrandom_state\u001b[0m\u001b[0;34m=\u001b[0m\u001b[0;36m0\u001b[0m\u001b[0;34m,\u001b[0m\u001b[0mn_estimators\u001b[0m\u001b[0;34m=\u001b[0m\u001b[0;36m100\u001b[0m\u001b[0;34m,\u001b[0m\u001b[0mn_jobs\u001b[0m\u001b[0;34m=\u001b[0m\u001b[0;34m-\u001b[0m\u001b[0;36m1\u001b[0m\u001b[0;34m)\u001b[0m\u001b[0;34m\u001b[0m\u001b[0;34m\u001b[0m\u001b[0m\n\u001b[1;32m      8\u001b[0m     \u001b[0;31m#根据已有数据去拟合随机森林模型\u001b[0m\u001b[0;34m\u001b[0m\u001b[0;34m\u001b[0m\u001b[0;34m\u001b[0m\u001b[0m\n\u001b[0;32m----> 9\u001b[0;31m     \u001b[0mrfr\u001b[0m\u001b[0;34m.\u001b[0m\u001b[0mfit\u001b[0m\u001b[0;34m(\u001b[0m\u001b[0mx\u001b[0m\u001b[0;34m,\u001b[0m\u001b[0my\u001b[0m\u001b[0;34m)\u001b[0m\u001b[0;34m\u001b[0m\u001b[0;34m\u001b[0m\u001b[0m\n\u001b[0m\u001b[1;32m     10\u001b[0m     \u001b[0;31m#预测缺失值\u001b[0m\u001b[0;34m\u001b[0m\u001b[0;34m\u001b[0m\u001b[0;34m\u001b[0m\u001b[0m\n\u001b[1;32m     11\u001b[0m     \u001b[0mpredictedg\u001b[0m \u001b[0;34m=\u001b[0m \u001b[0mrfr\u001b[0m\u001b[0;34m.\u001b[0m\u001b[0mpredict\u001b[0m\u001b[0;34m(\u001b[0m\u001b[0munknown_g\u001b[0m\u001b[0;34m[\u001b[0m\u001b[0;34m:\u001b[0m\u001b[0;34m,\u001b[0m\u001b[0;34m[\u001b[0m\u001b[0;36m0\u001b[0m\u001b[0;34m,\u001b[0m\u001b[0;36m2\u001b[0m\u001b[0;34m,\u001b[0m\u001b[0;36m3\u001b[0m\u001b[0;34m]\u001b[0m\u001b[0;34m]\u001b[0m\u001b[0;34m)\u001b[0m\u001b[0;34m\u001b[0m\u001b[0;34m\u001b[0m\u001b[0m\n",
      "\u001b[0;32m/opt/anaconda3/lib/python3.7/site-packages/sklearn/ensemble/forest.py\u001b[0m in \u001b[0;36mfit\u001b[0;34m(self, X, y, sample_weight)\u001b[0m\n\u001b[1;32m    247\u001b[0m \u001b[0;34m\u001b[0m\u001b[0m\n\u001b[1;32m    248\u001b[0m         \u001b[0;31m# Validate or convert input data\u001b[0m\u001b[0;34m\u001b[0m\u001b[0;34m\u001b[0m\u001b[0;34m\u001b[0m\u001b[0m\n\u001b[0;32m--> 249\u001b[0;31m         \u001b[0mX\u001b[0m \u001b[0;34m=\u001b[0m \u001b[0mcheck_array\u001b[0m\u001b[0;34m(\u001b[0m\u001b[0mX\u001b[0m\u001b[0;34m,\u001b[0m \u001b[0maccept_sparse\u001b[0m\u001b[0;34m=\u001b[0m\u001b[0;34m\"csc\"\u001b[0m\u001b[0;34m,\u001b[0m \u001b[0mdtype\u001b[0m\u001b[0;34m=\u001b[0m\u001b[0mDTYPE\u001b[0m\u001b[0;34m)\u001b[0m\u001b[0;34m\u001b[0m\u001b[0;34m\u001b[0m\u001b[0m\n\u001b[0m\u001b[1;32m    250\u001b[0m         \u001b[0my\u001b[0m \u001b[0;34m=\u001b[0m \u001b[0mcheck_array\u001b[0m\u001b[0;34m(\u001b[0m\u001b[0my\u001b[0m\u001b[0;34m,\u001b[0m \u001b[0maccept_sparse\u001b[0m\u001b[0;34m=\u001b[0m\u001b[0;34m'csc'\u001b[0m\u001b[0;34m,\u001b[0m \u001b[0mensure_2d\u001b[0m\u001b[0;34m=\u001b[0m\u001b[0;32mFalse\u001b[0m\u001b[0;34m,\u001b[0m \u001b[0mdtype\u001b[0m\u001b[0;34m=\u001b[0m\u001b[0;32mNone\u001b[0m\u001b[0;34m)\u001b[0m\u001b[0;34m\u001b[0m\u001b[0;34m\u001b[0m\u001b[0m\n\u001b[1;32m    251\u001b[0m         \u001b[0;32mif\u001b[0m \u001b[0msample_weight\u001b[0m \u001b[0;32mis\u001b[0m \u001b[0;32mnot\u001b[0m \u001b[0;32mNone\u001b[0m\u001b[0;34m:\u001b[0m\u001b[0;34m\u001b[0m\u001b[0;34m\u001b[0m\u001b[0m\n",
      "\u001b[0;32m/opt/anaconda3/lib/python3.7/site-packages/sklearn/utils/validation.py\u001b[0m in \u001b[0;36mcheck_array\u001b[0;34m(array, accept_sparse, accept_large_sparse, dtype, order, copy, force_all_finite, ensure_2d, allow_nd, ensure_min_samples, ensure_min_features, warn_on_dtype, estimator)\u001b[0m\n\u001b[1;32m    540\u001b[0m         \u001b[0;32mif\u001b[0m \u001b[0mforce_all_finite\u001b[0m\u001b[0;34m:\u001b[0m\u001b[0;34m\u001b[0m\u001b[0;34m\u001b[0m\u001b[0m\n\u001b[1;32m    541\u001b[0m             _assert_all_finite(array,\n\u001b[0;32m--> 542\u001b[0;31m                                allow_nan=force_all_finite == 'allow-nan')\n\u001b[0m\u001b[1;32m    543\u001b[0m \u001b[0;34m\u001b[0m\u001b[0m\n\u001b[1;32m    544\u001b[0m     \u001b[0;32mif\u001b[0m \u001b[0mensure_min_samples\u001b[0m \u001b[0;34m>\u001b[0m \u001b[0;36m0\u001b[0m\u001b[0;34m:\u001b[0m\u001b[0;34m\u001b[0m\u001b[0;34m\u001b[0m\u001b[0m\n",
      "\u001b[0;32m/opt/anaconda3/lib/python3.7/site-packages/sklearn/utils/validation.py\u001b[0m in \u001b[0;36m_assert_all_finite\u001b[0;34m(X, allow_nan)\u001b[0m\n\u001b[1;32m     54\u001b[0m                 not allow_nan and not np.isfinite(X).all()):\n\u001b[1;32m     55\u001b[0m             \u001b[0mtype_err\u001b[0m \u001b[0;34m=\u001b[0m \u001b[0;34m'infinity'\u001b[0m \u001b[0;32mif\u001b[0m \u001b[0mallow_nan\u001b[0m \u001b[0;32melse\u001b[0m \u001b[0;34m'NaN, infinity'\u001b[0m\u001b[0;34m\u001b[0m\u001b[0;34m\u001b[0m\u001b[0m\n\u001b[0;32m---> 56\u001b[0;31m             \u001b[0;32mraise\u001b[0m \u001b[0mValueError\u001b[0m\u001b[0;34m(\u001b[0m\u001b[0mmsg_err\u001b[0m\u001b[0;34m.\u001b[0m\u001b[0mformat\u001b[0m\u001b[0;34m(\u001b[0m\u001b[0mtype_err\u001b[0m\u001b[0;34m,\u001b[0m \u001b[0mX\u001b[0m\u001b[0;34m.\u001b[0m\u001b[0mdtype\u001b[0m\u001b[0;34m)\u001b[0m\u001b[0;34m)\u001b[0m\u001b[0;34m\u001b[0m\u001b[0;34m\u001b[0m\u001b[0m\n\u001b[0m\u001b[1;32m     57\u001b[0m     \u001b[0;31m# for object dtype data, we only check for NaNs (GH-13254)\u001b[0m\u001b[0;34m\u001b[0m\u001b[0;34m\u001b[0m\u001b[0;34m\u001b[0m\u001b[0m\n\u001b[1;32m     58\u001b[0m     \u001b[0;32melif\u001b[0m \u001b[0mX\u001b[0m\u001b[0;34m.\u001b[0m\u001b[0mdtype\u001b[0m \u001b[0;34m==\u001b[0m \u001b[0mnp\u001b[0m\u001b[0;34m.\u001b[0m\u001b[0mdtype\u001b[0m\u001b[0;34m(\u001b[0m\u001b[0;34m'object'\u001b[0m\u001b[0;34m)\u001b[0m \u001b[0;32mand\u001b[0m \u001b[0;32mnot\u001b[0m \u001b[0mallow_nan\u001b[0m\u001b[0;34m:\u001b[0m\u001b[0;34m\u001b[0m\u001b[0;34m\u001b[0m\u001b[0m\n",
      "\u001b[0;31mValueError\u001b[0m: Input contains NaN, infinity or a value too large for dtype('float32')."
     ]
    }
   ],
   "source": [
    "#在填年龄之前先把其他的用均值填掉\n",
    "def fill_gender(df):\n",
    "    #把数值型特征都放到随机森林里面去\n",
    "    known_g = df[df.gender.notnull()].as_matrix()\n",
    "    unknown_g = df[df.gender.isnull()].as_matrix()\n",
    "    y=known_g[:,1]#y是年龄，第一列数据\n",
    "    x=known_g[:,[0,2,3]]#x是特征属性值，后面几列\n",
    "    rfr=RandomForestRegressor(random_state=0,n_estimators=100,n_jobs=-1)\n",
    "    #根据已有数据去拟合随机森林模型\n",
    "    rfr.fit(x,y)\n",
    "    #预测缺失值\n",
    "    predictedg = rfr.predict(unknown_g[:,[0,2,3]])\n",
    "    #填补缺失值\n",
    "    df.loc[(df.gender.isnull()),'gender'] = predictedg\n",
    "    return df,rfr\n",
    "\n",
    "fill_gender (train_df_user)"
   ]
  },
  {
   "cell_type": "code",
   "execution_count": null,
   "metadata": {},
   "outputs": [],
   "source": [
    "train_user_fit = pd.DataFrame(KNN(k=5).fit_transform(train_df_user)) \n",
    "#train_user_fit = KNN(k=3).complete(train_df_user)"
   ]
  },
  {
   "cell_type": "code",
   "execution_count": null,
   "metadata": {},
   "outputs": [],
   "source": []
  },
  {
   "cell_type": "code",
   "execution_count": null,
   "metadata": {},
   "outputs": [],
   "source": [
    "train_user_fit.head()"
   ]
  },
  {
   "cell_type": "code",
   "execution_count": null,
   "metadata": {},
   "outputs": [],
   "source": [
    "train_poi_fit = pd.DataFrame(KNN(k=10).fit_transform(train_df_poi)) "
   ]
  },
  {
   "cell_type": "code",
   "execution_count": null,
   "metadata": {},
   "outputs": [],
   "source": []
  },
  {
   "cell_type": "code",
   "execution_count": null,
   "metadata": {},
   "outputs": [],
   "source": []
  }
 ],
 "metadata": {
  "kernelspec": {
   "display_name": "Python 3",
   "language": "python",
   "name": "python3"
  },
  "language_info": {
   "codemirror_mode": {
    "name": "ipython",
    "version": 3
   },
   "file_extension": ".py",
   "mimetype": "text/x-python",
   "name": "python",
   "nbconvert_exporter": "python",
   "pygments_lexer": "ipython3",
   "version": "3.7.4"
  }
 },
 "nbformat": 4,
 "nbformat_minor": 4
}
