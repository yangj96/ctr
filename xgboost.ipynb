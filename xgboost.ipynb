{
 "cells": [
  {
   "cell_type": "code",
   "execution_count": 1,
   "metadata": {},
   "outputs": [],
   "source": [
    "import numpy as np\n",
    "import pandas as pd\n",
    "import xgboost as xgb\n",
    "from sklearn.model_selection import StratifiedKFold\n",
    "from sklearn import metrics\n",
    "from sklearn.preprocessing import LabelEncoder, OneHotEncoder\n",
    " \n",
    "pd.set_option('precision', 5)\n",
    "pd.set_option('display.float_format', lambda x: '%.5f' % x) "
   ]
  },
  {
   "cell_type": "code",
   "execution_count": 2,
   "metadata": {},
   "outputs": [
    {
     "name": "stdout",
     "output_type": "stream",
     "text": [
      "(4206064, 24)\n",
      "(192000, 23)\n"
     ]
    }
   ],
   "source": [
    "train_df = pd.read_csv('./data/train_data_1120.csv')\n",
    "test_df = pd.read_csv('./data/test_data_1120.csv')\n",
    "print(train_df.shape)\n",
    "print(test_df.shape)"
   ]
  },
  {
   "cell_type": "code",
   "execution_count": 3,
   "metadata": {},
   "outputs": [
    {
     "data": {
      "text/plain": [
       "Index(['Unnamed: 0', 'poi_id', 'request_id', 'uuid', 'request_cate_id',\n",
       "       'device_type', 'gender', 'job', 'cate_level1', 'cate_level2',\n",
       "       'cate_level3', 'area_id', 'latitude_req', 'longitude_req', 'age',\n",
       "       'avg_price', 'poi_star', 'longitude_poi', 'latitude_poi', 'distance',\n",
       "       'poi_cnt_deal', 'poi_avg_discount', 'request_time_second', 'action'],\n",
       "      dtype='object')"
      ]
     },
     "execution_count": 3,
     "metadata": {},
     "output_type": "execute_result"
    }
   ],
   "source": [
    "train_df.columns"
   ]
  },
  {
   "cell_type": "code",
   "execution_count": 14,
   "metadata": {},
   "outputs": [
    {
     "data": {
      "text/plain": [
       "Index(['poi_id', 'request_cate_id', 'device_type', 'gender', 'job',\n",
       "       'cate_level1', 'cate_level2', 'cate_level3', 'area_id', 'latitude_req',\n",
       "       'longitude_req', 'age', 'avg_price', 'poi_star', 'longitude_poi',\n",
       "       'latitude_poi', 'distance', 'poi_avg_discount', 'request_time_second'],\n",
       "      dtype='object')"
      ]
     },
     "execution_count": 14,
     "metadata": {},
     "output_type": "execute_result"
    }
   ],
   "source": [
    "test_df.columns"
   ]
  },
  {
   "cell_type": "code",
   "execution_count": 5,
   "metadata": {},
   "outputs": [],
   "source": [
    "train_target = train_df['action']\n",
    "test_id = test_df['Unnamed: 0']"
   ]
  },
  {
   "cell_type": "code",
   "execution_count": 6,
   "metadata": {
    "scrolled": true
   },
   "outputs": [],
   "source": [
    "#train_df.drop(['action'], axis = 1, inplace=True)\n",
    "train_df.drop(['action','Unnamed: 0', 'request_id', 'uuid'], axis = 1, inplace=True)\n",
    "test_df.drop(['Unnamed: 0', 'request_id', 'uuid'], axis = 1, inplace=True)"
   ]
  },
  {
   "cell_type": "code",
   "execution_count": 9,
   "metadata": {},
   "outputs": [],
   "source": [
    "train_df.drop(['poi_cnt_deal'], axis = 1, inplace=True)\n",
    "test_df.drop(['poi_cnt_deal'], axis = 1, inplace=True)"
   ]
  },
  {
   "cell_type": "code",
   "execution_count": 15,
   "metadata": {},
   "outputs": [],
   "source": [
    "n_splits = 5\n",
    "random_state = 2000\n",
    "# np.random.seed(random_state)\n",
    "splits = list(StratifiedKFold(n_splits=n_splits, shuffle=True, random_state=random_state).split(train_df, train_target))\n",
    "\n",
    "cols = list(train_df.columns)\n",
    "feature_importance_df = pd.DataFrame()\n",
    "oof = np.zeros(len(train_df))\n",
    "predictions = np.zeros(len(test_df))"
   ]
  },
  {
   "cell_type": "code",
   "execution_count": 11,
   "metadata": {},
   "outputs": [
    {
     "data": {
      "text/plain": [
       "0    4106529\n",
       "1      99535\n",
       "Name: action, dtype: int64"
      ]
     },
     "execution_count": 11,
     "metadata": {},
     "output_type": "execute_result"
    }
   ],
   "source": [
    "train_target.value_counts(0)"
   ]
  },
  {
   "cell_type": "code",
   "execution_count": 16,
   "metadata": {},
   "outputs": [
    {
     "name": "stdout",
     "output_type": "stream",
     "text": [
      "Folder 0\n"
     ]
    },
    {
     "name": "stderr",
     "output_type": "stream",
     "text": [
      "/home/yj/anaconda3/lib/python3.7/site-packages/xgboost/core.py:587: FutureWarning: Series.base is deprecated and will be removed in a future version\n",
      "  if getattr(data, 'base', None) is not None and \\\n"
     ]
    },
    {
     "name": "stdout",
     "output_type": "stream",
     "text": [
      "[0]\teval-auc:0.623921\n",
      "Will train until eval-auc hasn't improved in 2000 rounds.\n",
      "[1000]\teval-auc:0.644025\n",
      "[2000]\teval-auc:0.638618\n",
      "Stopping. Best iteration:\n",
      "[280]\teval-auc:0.646969\n",
      "\n",
      "best score 0.646969\n",
      "best_iteration 280\n",
      "Folder 1\n",
      "[0]\teval-auc:0.621777\n",
      "Will train until eval-auc hasn't improved in 2000 rounds.\n",
      "[1000]\teval-auc:0.642543\n",
      "[2000]\teval-auc:0.637023\n",
      "Stopping. Best iteration:\n",
      "[317]\teval-auc:0.645915\n",
      "\n",
      "best score 0.645915\n",
      "best_iteration 317\n",
      "Folder 2\n",
      "[0]\teval-auc:0.624364\n",
      "Will train until eval-auc hasn't improved in 2000 rounds.\n",
      "[1000]\teval-auc:0.645467\n",
      "[2000]\teval-auc:0.6405\n",
      "Stopping. Best iteration:\n",
      "[338]\teval-auc:0.649192\n",
      "\n",
      "best score 0.649192\n",
      "best_iteration 338\n",
      "Folder 3\n",
      "[0]\teval-auc:0.623413\n",
      "Will train until eval-auc hasn't improved in 2000 rounds.\n",
      "[1000]\teval-auc:0.646057\n",
      "[2000]\teval-auc:0.639528\n",
      "Stopping. Best iteration:\n",
      "[390]\teval-auc:0.649307\n",
      "\n",
      "best score 0.649307\n",
      "best_iteration 390\n",
      "Folder 4\n",
      "[0]\teval-auc:0.621258\n",
      "Will train until eval-auc hasn't improved in 2000 rounds.\n",
      "[1000]\teval-auc:0.643196\n",
      "[2000]\teval-auc:0.638533\n",
      "Stopping. Best iteration:\n",
      "[415]\teval-auc:0.64625\n",
      "\n",
      "best score 0.64625\n",
      "best_iteration 415\n",
      "0.6475224407478998\n"
     ]
    }
   ],
   "source": [
    "xgb_param = {\n",
    "    \"objective\" : \"binary:logistic\",\n",
    "    \"eval_metric\" : \"auc\",\n",
    "    \"max_depth\" : 7,\n",
    "    \"learning_rate\" : 0.1,\n",
    "    \"bagging_seed\" : random_state,\n",
    "    \"seed\": random_state,\n",
    "    'gpu_id':0,\n",
    "    'tree_method': 'gpu_hist',\n",
    "    'min_child_weight': 80\n",
    "}\n",
    "test_data_M = xgb.DMatrix(test_df, feature_names=cols)\n",
    "\n",
    "for i, (train_idx, valid_idx) in enumerate(splits):\n",
    "    print('Folder', i)\n",
    "    x_tr, y_tr = train_df.iloc[train_idx], train_target.iloc[train_idx]\n",
    "    x_valid, y_valid = train_df.iloc[valid_idx], train_target.iloc[valid_idx]\n",
    "    \n",
    "    train_data = xgb.DMatrix(x_tr, label=y_tr, feature_names=cols)\n",
    "    valid_data = xgb.DMatrix(x_valid, label=y_valid, feature_names=cols)\n",
    "    \n",
    "    num_round = 100000\n",
    "   \n",
    "    clf = xgb.train(xgb_param, train_data, num_round, [(valid_data, 'eval')], early_stopping_rounds=2000, verbose_eval=1000)\n",
    "    \n",
    "    print(f'best score {clf.best_score}')\n",
    "    print(f'best_iteration {clf.best_iteration}')\n",
    "    \n",
    "    oof[valid_idx] = clf.predict(valid_data, ntree_limit=clf.best_ntree_limit)\n",
    "    predictions += clf.predict(test_data_M, ntree_limit=clf.best_ntree_limit) / n_splits\n",
    "    \n",
    "    del x_tr\n",
    "    del y_tr\n",
    "\n",
    "print(metrics.roc_auc_score(train_target.values, oof))"
   ]
  },
  {
   "cell_type": "code",
   "execution_count": 17,
   "metadata": {},
   "outputs": [],
   "source": [
    "submission = pd.DataFrame({'ID': test_id, 'action': predictions})\n",
    "oof = pd.DataFrame({'action': oof})"
   ]
  },
  {
   "cell_type": "code",
   "execution_count": 19,
   "metadata": {},
   "outputs": [],
   "source": [
    "submission.to_csv('result/xgboost_oof_test_64752.csv', index = False)"
   ]
  },
  {
   "cell_type": "code",
   "execution_count": 20,
   "metadata": {},
   "outputs": [],
   "source": [
    "oof.to_csv('result/xgboost_oof_train_64752.csv')"
   ]
  },
  {
   "cell_type": "code",
   "execution_count": 22,
   "metadata": {
    "scrolled": false
   },
   "outputs": [
    {
     "data": {
      "image/png": "[encoded data removed]",
      "text/plain": [
       "<Figure size 432x288 with 1 Axes>"
      ]
     },
     "metadata": {
      "needs_background": "light"
     },
     "output_type": "display_data"
    }
   ],
   "source": [
    "from xgboost import plot_importance\n",
    "from matplotlib import pyplot\n",
    "plot_importance(clf)\n",
    "pyplot.show()"
   ]
  },
  {
   "cell_type": "code",
   "execution_count": 35,
   "metadata": {},
   "outputs": [
    {
     "data": {
      "text/plain": [
       "(192000, 2)"
      ]
     },
     "execution_count": 35,
     "metadata": {},
     "output_type": "execute_result"
    }
   ],
   "source": [
    "submission.shape"
   ]
  },
  {
   "cell_type": "code",
   "execution_count": 36,
   "metadata": {},
   "outputs": [
    {
     "data": {
      "text/html": [
       "<div>\n",
       "<style scoped>\n",
       "    .dataframe tbody tr th:only-of-type {\n",
       "        vertical-align: middle;\n",
       "    }\n",
       "\n",
       "    .dataframe tbody tr th {\n",
       "        vertical-align: top;\n",
       "    }\n",
       "\n",
       "    .dataframe thead th {\n",
       "        text-align: right;\n",
       "    }\n",
       "</style>\n",
       "<table border=\"1\" class=\"dataframe\">\n",
       "  <thead>\n",
       "    <tr style=\"text-align: right;\">\n",
       "      <th></th>\n",
       "      <th>ID</th>\n",
       "      <th>action</th>\n",
       "    </tr>\n",
       "  </thead>\n",
       "  <tbody>\n",
       "    <tr>\n",
       "      <th>count</th>\n",
       "      <td>192000.00000</td>\n",
       "      <td>192000.00000</td>\n",
       "    </tr>\n",
       "    <tr>\n",
       "      <th>mean</th>\n",
       "      <td>95999.50000</td>\n",
       "      <td>0.02244</td>\n",
       "    </tr>\n",
       "    <tr>\n",
       "      <th>std</th>\n",
       "      <td>55425.77018</td>\n",
       "      <td>0.01110</td>\n",
       "    </tr>\n",
       "    <tr>\n",
       "      <th>min</th>\n",
       "      <td>0.00000</td>\n",
       "      <td>0.00172</td>\n",
       "    </tr>\n",
       "    <tr>\n",
       "      <th>25%</th>\n",
       "      <td>47999.75000</td>\n",
       "      <td>0.01491</td>\n",
       "    </tr>\n",
       "    <tr>\n",
       "      <th>50%</th>\n",
       "      <td>95999.50000</td>\n",
       "      <td>0.02121</td>\n",
       "    </tr>\n",
       "    <tr>\n",
       "      <th>75%</th>\n",
       "      <td>143999.25000</td>\n",
       "      <td>0.02844</td>\n",
       "    </tr>\n",
       "    <tr>\n",
       "      <th>max</th>\n",
       "      <td>191999.00000</td>\n",
       "      <td>0.17952</td>\n",
       "    </tr>\n",
       "  </tbody>\n",
       "</table>\n",
       "</div>"
      ],
      "text/plain": [
       "                ID       action\n",
       "count 192000.00000 192000.00000\n",
       "mean   95999.50000      0.02244\n",
       "std    55425.77018      0.01110\n",
       "min        0.00000      0.00172\n",
       "25%    47999.75000      0.01491\n",
       "50%    95999.50000      0.02121\n",
       "75%   143999.25000      0.02844\n",
       "max   191999.00000      0.17952"
      ]
     },
     "execution_count": 36,
     "metadata": {},
     "output_type": "execute_result"
    }
   ],
   "source": [
    "submission.describe()"
   ]
  },
  {
   "cell_type": "code",
   "execution_count": 37,
   "metadata": {},
   "outputs": [
    {
     "data": {
      "text/plain": [
       "ID        0\n",
       "action    0\n",
       "dtype: int64"
      ]
     },
     "execution_count": 37,
     "metadata": {},
     "output_type": "execute_result"
    }
   ],
   "source": [
    "submission.isnull().sum()"
   ]
  }
 ],
 "metadata": {
  "kernelspec": {
   "display_name": "Python 3",
   "language": "python",
   "name": "python3"
  },
  "language_info": {
   "codemirror_mode": {
    "name": "ipython",
    "version": 3
   },
   "file_extension": ".py",
   "mimetype": "text/x-python",
   "name": "python",
   "nbconvert_exporter": "python",
   "pygments_lexer": "ipython3",
   "version": "3.7.5"
  }
 },
 "nbformat": 4,
 "nbformat_minor": 2
}
